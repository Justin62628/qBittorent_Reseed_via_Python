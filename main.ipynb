{
 "cells": [
  {
   "cell_type": "markdown",
   "source": [
    "# Env\n",
    "Initiate Environment and Key Parameters below:\n",
    "- `torrent_dir` -> where you store your torrents, assume it to be where qB stores its torrents\n",
    "- `content_dir` -> where you store your PT contents. Will ignore hardlinks\n",
    "- `sorted_torrent_dir` -> where temporary sorted out torrents store."
   ],
   "metadata": {
    "collapsed": false,
    "pycharm": {
     "name": "#%% md\n"
    }
   }
  },
  {
   "cell_type": "code",
   "execution_count": null,
   "metadata": {
    "collapsed": true
   },
   "outputs": [],
   "source": [
    "import os\n",
    "import shutil\n",
    "from difflib import SequenceMatcher\n",
    "from glob import glob\n",
    "\n",
    "import torrent_parser as tp\n",
    "\n",
    "# data = tp.parse_torrent_file('test.torrent')\n",
    "torrent_dir = r\"C:\\Users\\24103\\AppData\\Local\\qBittorrent\\BT_backup\"\n",
    "content_dir = r\"P:\\MultiMediaDatabase\"\n",
    "sorted_torrent_dir = \"result\""
   ]
  },
  {
   "cell_type": "markdown",
   "source": [
    "# Read Torrent"
   ],
   "metadata": {
    "collapsed": false
   }
  },
  {
   "cell_type": "code",
   "execution_count": null,
   "outputs": [],
   "source": [
    "torrent_files = glob(torrent_dir + '/*.torrent')\n",
    "torrent_data = dict()\n",
    "failed_torrents = list()\n",
    "for f in torrent_files:\n",
    "    td = tp.parse_torrent_file(f)\n",
    "    success = False\n",
    "    if 'info' in td:\n",
    "        if 'name' in td['info']:\n",
    "            torrent_data.update({f: td['info']['name']})\n",
    "            success = True\n",
    "    if not success:\n",
    "        failed_torrents.append(f)"
   ],
   "metadata": {
    "collapsed": false,
    "pycharm": {
     "name": "#%%\n"
    }
   }
  },
  {
   "cell_type": "markdown",
   "source": [
    "# Read files\n",
    "`dir_depths_data` -> special dir paths to look into\n",
    "\n",
    "which means search depths > 1"
   ],
   "metadata": {
    "collapsed": false,
    "pycharm": {
     "name": "#%% md\n"
    }
   }
  },
  {
   "cell_type": "code",
   "execution_count": null,
   "outputs": [],
   "source": [
    "dir_depths_data = dict()\n",
    "for i in os.listdir(content_dir):\n",
    "    dir_depths_data[i] = [{}]\n",
    "\n",
    "dir_depths_data.update({'Disc': [{'Animes': [{}]}, {'NonAnimes': [{}]}],\n",
    "                        'Documents': [{'200MB': [{}]}],\n",
    "                        'Musics': [{'Animes': [{}]}],\n",
    "                        'Animes': [{}], 'AnimesTV': [{}], 'Games': [{}], 'NonAnimes': [{}], 'NonAnimesTV': [{}],\n",
    "                        'R18': [{}],\n",
    "                        'Softwares': [{}], 'Subtitles': [{}], 'Torrents': [{}],\n",
    "                        })\n",
    "\n",
    "def find_files_recursion(dirpath, depth_data: dict) -> dict:\n",
    "    tmp_filedata = dict()\n",
    "    for f in os.listdir(dirpath):  # e.g.: Disc\n",
    "        fullpath = os.path.join(dirpath, f)\n",
    "        print(f\"current: {f}, {fullpath}, {depth_data}\")\n",
    "        if f in depth_data:\n",
    "            desc_depth_data = depth_data[f]  # e.g.: [{'Animes': []}, {'NonAnimes': []}]\n",
    "            print(f\"desc data: {desc_depth_data}\")\n",
    "            for single_depth_data in desc_depth_data:  # e.g.: {Animes: []}\n",
    "                print(f\"enter recursion: {fullpath}, {single_depth_data}\")\n",
    "                tmp_filedata.update(find_files_recursion(fullpath, single_depth_data))\n",
    "        else:\n",
    "            tmp_filedata.update({fullpath: []})\n",
    "    return tmp_filedata\n",
    "\n",
    "file_data = find_files_recursion(content_dir, dir_depths_data)"
   ],
   "metadata": {
    "collapsed": false,
    "pycharm": {
     "name": "#%%\n"
    }
   }
  },
  {
   "cell_type": "markdown",
   "source": [
    "# Match File and Torrent"
   ],
   "metadata": {
    "collapsed": false,
    "pycharm": {
     "name": "#%% md\n"
    }
   }
  },
  {
   "cell_type": "code",
   "execution_count": null,
   "outputs": [],
   "source": [
    "match_data = dict()\n",
    "ratio_threshold = 0.9\n",
    "for fullpath in file_data:\n",
    "    for t in torrent_data:\n",
    "        f = os.path.basename(fullpath)\n",
    "        tn = torrent_data[t]\n",
    "        if SequenceMatcher(None, f, tn).quick_ratio() > ratio_threshold:\n",
    "            print(f\"Match: {f} <-> {tn}\")\n",
    "            file_data[fullpath].append(t)"
   ],
   "metadata": {
    "collapsed": false,
    "pycharm": {
     "name": "#%%\n"
    }
   }
  },
  {
   "cell_type": "markdown",
   "source": [
    "# Copy Torrent and prepare Check"
   ],
   "metadata": {
    "collapsed": false,
    "pycharm": {
     "name": "#%% md\n"
    }
   }
  },
  {
   "cell_type": "code",
   "execution_count": null,
   "outputs": [],
   "source": [
    "result_data = dir_depths_data.copy()\n",
    "\n",
    "\n",
    "def copy_torrent():\n",
    "    for f, p in file_data.items():\n",
    "        if len(p):\n",
    "            torrent_base = os.path.dirname(f)\n",
    "            torrent_base = torrent_base.replace(content_dir, sorted_torrent_dir)  # rebase\n",
    "            os.makedirs(torrent_base, exist_ok=True)\n",
    "            # print(torrent_base)\n",
    "            for t in p:\n",
    "                shutil.copy(t, torrent_base)\n",
    "\n",
    "\n",
    "copy_torrent()"
   ],
   "metadata": {
    "collapsed": false,
    "pycharm": {
     "name": "#%%\n"
    }
   }
  },
  {
   "cell_type": "markdown",
   "source": [
    "# Auto Reseed"
   ],
   "metadata": {
    "collapsed": false,
    "pycharm": {
     "name": "#%% md\n"
    }
   }
  },
  {
   "cell_type": "code",
   "execution_count": null,
   "outputs": [],
   "source": [
    "from qbittorrent import Client\n",
    "\n",
    "qb = Client('http://127.0.0.1:8080', verify=False)\n",
    "qb.login('admin', 'admin123')\n",
    "hash_data = dict()\n",
    "for d in qb.torrents():\n",
    "    hash_data[d['hash']] = d\n",
    "\n",
    "for f, torrents in file_data.items():\n",
    "    if len(torrents):\n",
    "        for t in torrents:\n",
    "            torrent_hash = os.path.splitext(os.path.basename(t))[0]\n",
    "            if torrent_hash not in hash_data:\n",
    "                reseed_result = qb.download_from_file(open(t, 'rb'), save_path=os.path.dirname(f), skip_checking=True)\n",
    "                print(f\"reseed: {f} -> {t} = {reseed_result}\")"
   ],
   "metadata": {
    "collapsed": false,
    "pycharm": {
     "name": "#%%\n"
    }
   }
  },
  {
   "cell_type": "markdown",
   "source": [
    "# Auto Tagging"
   ],
   "metadata": {
    "collapsed": false,
    "pycharm": {
     "name": "#%% md\n"
    }
   }
  },
  {
   "cell_type": "code",
   "execution_count": null,
   "outputs": [],
   "source": [
    "import qbittorrentapi\n",
    "\n",
    "qb = qbittorrentapi.Client('localhost', 8080, 'admin', 'admin123')\n",
    "\n",
    "tags = qb.torrents_tags()\n",
    "qb.torrents_delete_tags(tags)\n",
    "tags = []\n",
    "for h, d in hash_data.items():\n",
    "    content_path = d['content_path']\n",
    "    tag = \"x\" * 100\n",
    "    while len(tag) > 10:\n",
    "        content_path = os.path.dirname(content_path)\n",
    "        tag = os.path.basename(content_path)\n",
    "\n",
    "    if tag not in tags:\n",
    "        print(f\"Create Tag = {tag}\")\n",
    "        qb.torrents_create_tags(tag)\n",
    "        tags.append(tag)\n",
    "    qb.torrents_add_tags(tag, h)"
   ],
   "metadata": {
    "collapsed": false,
    "pycharm": {
     "name": "#%%\n"
    }
   }
  },
  {
   "cell_type": "markdown",
   "source": [
    "# Other Operations"
   ],
   "metadata": {
    "collapsed": false
   }
  },
  {
   "cell_type": "code",
   "execution_count": null,
   "outputs": [],
   "source": [
    "find_str = \"Ryuu\"\n",
    "for torrent in torrent_data:\n",
    "    if find_str in torrent_data[torrent]:\n",
    "        print(f\"find torrent {torrent}, {torrent_data[torrent]}\")"
   ],
   "metadata": {
    "collapsed": false,
    "pycharm": {
     "name": "#%%\n"
    }
   }
  }
 ],
 "metadata": {
  "kernelspec": {
   "display_name": "Python 3",
   "language": "python",
   "name": "python3"
  },
  "language_info": {
   "codemirror_mode": {
    "name": "ipython",
    "version": 2
   },
   "file_extension": ".py",
   "mimetype": "text/x-python",
   "name": "python",
   "nbconvert_exporter": "python",
   "pygments_lexer": "ipython2",
   "version": "2.7.6"
  }
 },
 "nbformat": 4,
 "nbformat_minor": 0
}